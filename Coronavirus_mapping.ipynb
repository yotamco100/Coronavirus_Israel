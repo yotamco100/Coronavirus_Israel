{
 "cells": [
  {
   "cell_type": "code",
   "execution_count": null,
   "metadata": {},
   "outputs": [],
   "source": [
    "import tensorflow as tf\n",
    "import matplotlib.pyplot as plt\n",
    "import numpy as np\n",
    "import pandas as pd\n",
    "import math"
   ]
  },
  {
   "cell_type": "code",
   "execution_count": null,
   "metadata": {},
   "outputs": [],
   "source": [
    "corona_df = pd.read_csv(\"Coronavirus_israel.csv\")"
   ]
  },
  {
   "cell_type": "code",
   "execution_count": null,
   "metadata": {},
   "outputs": [],
   "source": [
    "corona_df.plot(x ='Day', y='Cases (Cumulative)', kind = 'line')\n",
    "X_true = np.array(corona_df[\"Day\"].array, dtype=np.float32)\n",
    "Y_true = np.array(corona_df[\"Cases (Cumulative)\"].array, dtype=np.float32)\n",
    "n = len(Y_true)"
   ]
  },
  {
   "cell_type": "code",
   "execution_count": null,
   "metadata": {},
   "outputs": [],
   "source": [
    "x = tf.placeholder(tf.float32, name='x')\n",
    "y = tf.placeholder(tf.float32, name='y')\n",
    "L = tf.Variable(np.random.randn(), name = \"L\")\n",
    "k = tf.Variable(np.random.randn(), name = \"k\")\n",
    "x_zero = tf.Variable(np.random.randn(), name = \"x_zero\")"
   ]
  },
  {
   "cell_type": "code",
   "execution_count": null,
   "metadata": {},
   "outputs": [],
   "source": [
    "learning_rate = 0.01\n",
    "training_epochs = 1000000000"
   ]
  },
  {
   "cell_type": "code",
   "execution_count": null,
   "metadata": {},
   "outputs": [],
   "source": [
    "# y_pred = multiple * (tf.exp(x) / (tf.exp(x) + denom_add)) + all_add  # Yotam's Sigmoid\n",
    "y_pred = L / (1 + tf.exp(-k*(x-x_zero)))  # Logistic function\n",
    "cost = tf.losses.mean_squared_error(y_pred,y)\n",
    "optimizer = tf.train.AdamOptimizer(learning_rate).minimize(cost)\n",
    "init = tf.global_variables_initializer() "
   ]
  },
  {
   "cell_type": "code",
   "execution_count": null,
   "metadata": {},
   "outputs": [],
   "source": [
    "with tf.Session() as sess: \n",
    "      \n",
    "    # Initializing the Variables \n",
    "    sess.run(init) \n",
    "      \n",
    "    # Iterating through all the epochs \n",
    "    for epoch in range(training_epochs): \n",
    "        \n",
    "        \"\"\"\n",
    "        # Feeding each data point into the optimizer using Feed Dictionary \n",
    "        for (_x, _y) in zip(X_true, Y_true): \n",
    "            sess.run(optimizer, feed_dict = {x : _x, y : _y})\n",
    "        \"\"\"\n",
    "        sess.run(optimizer, feed_dict = {x : X_true, y : Y_true})\n",
    "          \n",
    "        # Displaying the result after every 50 epochs \n",
    "        if (epoch + 1) % 1000 == 0: \n",
    "            # Calculating the cost a every epoch \n",
    "            c = sess.run(cost, feed_dict = {x : X_true, y : Y_true}) \n",
    "            print(\"Epoch\", (epoch + 1), \": cost =\", c, \"L =\", sess.run(L), \"k =\", sess.run(k), \"x_zero =\", sess.run(x_zero)) \n",
    "      \n",
    "    # Storing necessary values to be used outside the Session \n",
    "    training_cost = sess.run(cost, feed_dict ={x: X_true, y: Y_true})\n",
    "    L = sess.run(L)\n",
    "    print(f\"L: {L}\")\n",
    "    k = sess.run(k)\n",
    "    print(f\"k: {k}\")\n",
    "    x_zero = sess.run(x_zero)\n",
    "    print(f\"z_zero: {x_zero}\")"
   ]
  },
  {
   "cell_type": "code",
   "execution_count": null,
   "metadata": {},
   "outputs": [],
   "source": [
    "L = 6911.367\n",
    "k = 0.2946714\n",
    "x_zero = 23.525335\n",
    "def logistic(x, L, k, x_zero):\n",
    "    return L / (1 + math.exp(-k*(x-x_zero)))\n",
    "\n",
    "x_plot = np.arange(0,200,1)\n",
    "y_plot = np.array([logistic(i, L, k, x_zero) for i in x_plot])\n",
    "corona_df.plot(x ='Day', y='Cases (Cumulative)', kind = 'scatter')\n",
    "plt.plot(x_plot, y_plot)"
   ]
  },
  {
   "cell_type": "code",
   "execution_count": null,
   "metadata": {},
   "outputs": [],
   "source": [
    "multiple"
   ]
  },
  {
   "cell_type": "code",
   "execution_count": null,
   "metadata": {},
   "outputs": [],
   "source": [
    "tf.losses"
   ]
  },
  {
   "cell_type": "code",
   "execution_count": null,
   "metadata": {},
   "outputs": [],
   "source": []
  },
  {
   "cell_type": "code",
   "execution_count": null,
   "metadata": {},
   "outputs": [],
   "source": []
  }
 ],
 "metadata": {
  "kernelspec": {
   "display_name": "Python 3",
   "language": "python",
   "name": "python3"
  },
  "language_info": {
   "codemirror_mode": {
    "name": "ipython",
    "version": 3
   },
   "file_extension": ".py",
   "mimetype": "text/x-python",
   "name": "python",
   "nbconvert_exporter": "python",
   "pygments_lexer": "ipython3",
   "version": "3.7.3"
  }
 },
 "nbformat": 4,
 "nbformat_minor": 2
}
